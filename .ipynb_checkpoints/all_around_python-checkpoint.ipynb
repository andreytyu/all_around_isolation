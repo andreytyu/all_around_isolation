{
 "cells": [
  {
   "cell_type": "markdown",
   "metadata": {
    "slideshow": {
     "slide_type": "slide"
    }
   },
   "source": [
    "## Почему стоит учиться кодить?\n",
    "\n",
    "\n",
    "* [Неплохо оплачиваемая](https://insights.stackoverflow.com/survey/2019#salary) работа на ближайшее обозримое будущее \n",
    "* Это интересно\n",
    "* Творческое занятие\n",
    "* Даже [Обама сказал](https://www.youtube.com/watch?v=6XvmhE1J9PY), что надо учиться\n",
    "\n",
    "\n",
    "\n",
    "## Почему не стоит учиться кодить?\n",
    "\n",
    "\n",
    "* В будущем [почти никто не будет](https://towardsdatascience.com/the-death-of-data-scientists-c243ae167701) программировать!\n",
    "* Это скучно\n",
    "* Большая часть того, что ты делаешь - рутина и скука\n",
    "* Придется вечно учиться (знания и навыки быстро устаревают)\n",
    "* Нужно ли вам это?"
   ]
  },
  {
   "cell_type": "markdown",
   "metadata": {},
   "source": [
    "### Python - [самый популярный](https://insights.stackoverflow.com/survey/2019#most-popular-technologies) (по некоторым версиям) язык программирования\n",
    "\n",
    "[Как менялась популярность языков](https://www.youtube.com/watch?v=Og847HVwRSI) по данным Github"
   ]
  },
  {
   "cell_type": "markdown",
   "metadata": {},
   "source": [
    "### Python - универсальный язык программирования!\n",
    "\n",
    "но расцвет произошел из-за развития анализа данных и [машинного обучения](https://habr.com/en/post/449558/).\n",
    "\n",
    "* Почти все, что связано с анализом данных (все, что можно сделать в Excel, но больше и круче)\n",
    "* Предиктивная аналитика (прогнозируем цену на товар, кредитный скоринг, отток пользователей)\n",
    "* Рекомендации в онлайн-магазинах, Netflix, YouTube, Spotify, и т.п.\n",
    "* Обработка текстов, картинок, видео, аудио\n",
    "* Голосовые помощники\n",
    "* [Deep Dream](https://photos.google.com/share/AF1QipPX0SCl7OzWilt9LnuQliattX4OUCj_8EP65_cTVnBmS1jnYgsGQAieQUc1VQWdgQ?key=aVBxWjhwSzg2RjJWLWRuVFBBZEN1d205bUdEMnhB) Гугла\n",
    "* [Этих кошек не существует](https://thesecatsdonotexist.com/)\n",
    "* [Галерея нейросетевого искусства Яндекса](https://yandex.ru/lab/ganart)\n",
    "\n",
    "Также можно делать всякие клевые штуки c Arduino или Raspbery Pi - [мелочи для умного дома,](https://create.arduino.cc/projecthub/projects/tags/python) [арт-объекты](https://vimeo.com/76479685)"
   ]
  },
  {
   "cell_type": "markdown",
   "metadata": {},
   "source": [
    "### Python создан, чтобы быть простым и красивым\n",
    "\n",
    "\"Программирование — это не только создание инструкций для машины. Это ещё и обмен идеями между разработчиками. Поэтому код должен быть понятным людям\"\n",
    "\n",
    "![](https://simkl.in/fanart/64/6470400fc0f0e120_0.jpg)"
   ]
  },
  {
   "cell_type": "code",
   "execution_count": null,
   "metadata": {},
   "outputs": [],
   "source": [
    "import this"
   ]
  },
  {
   "cell_type": "markdown",
   "metadata": {},
   "source": [
    "## Hello World"
   ]
  },
  {
   "cell_type": "markdown",
   "metadata": {},
   "source": [
    "#### JAVA (probably):\n",
    "```java\n",
    "class HelloWorld {\n",
    "    public static void main(String[] args) {\n",
    "        System.out.println(\"Hello World!\");\n",
    "    }\n",
    "}\n",
    "```"
   ]
  },
  {
   "cell_type": "markdown",
   "metadata": {},
   "source": [
    "#### Python:"
   ]
  },
  {
   "cell_type": "code",
   "execution_count": null,
   "metadata": {},
   "outputs": [],
   "source": [
    "print('Hello World!')"
   ]
  },
  {
   "cell_type": "markdown",
   "metadata": {},
   "source": [
    "### Установка Python"
   ]
  },
  {
   "cell_type": "markdown",
   "metadata": {},
   "source": [
    "Установка Python: https://python-scripts.com/install-python"
   ]
  },
  {
   "cell_type": "markdown",
   "metadata": {},
   "source": [
    "Anaconda (рекомендую для простоты): https://www.anaconda.com/distribution/\n",
    "\n",
    "![](https://www.ostechnix.com/wp-content/uploads/2020/01/Anaconda-Navigator-interface.png)"
   ]
  },
  {
   "cell_type": "markdown",
   "metadata": {},
   "source": [
    "## Курсы!\n",
    "\n",
    "##### Основы питона:\n",
    "* [learnpython.org](https://www.learnpython.org/) (небольшой, но хороший интерактивный туториал)\n",
    "\n",
    "* Ищите курсы на Coursera, Udemy и тп, например [вот такой](https://www.udemy.com/course/free-python/?LSNPUBID=JVFxdTr9V80&ranEAID=JVFxdTr9V80&ranMID=39197&ranSiteID=JVFxdTr9V80-vbWR7EmwSe2Z_F3DDd5Nbw)\n",
    "\n",
    "##### Тренировка к собеседованиям:\n",
    "* [Leetcode](https://leetcode.com/problemset/all/) - задачки по языкам программирования\n",
    "\n",
    "##### Python, pandas и машинное обучение:\n",
    "* Открытый курс машинного обучения [на английском](https://mlcourse.ai/) и [на русском](https://habr.com/ru/company/ods/blog/322626/) - отличное сочетание теории и практики\n",
    "* [Курсы](https://www.coursera.org/specializations/machine-learning-data-analysis) от Яндекса и МФТИ (очень круто, но может быть тяжко с математикой)\n",
    "* [Классический](https://www.coursera.org/learn/machine-learning#syllabus) курс от Эндрю Ына из Стэнфорда\n",
    "\n",
    "##### Соревнования\n",
    "\n",
    "* [Kaggle](https://www.kaggle.com/competitions)\n"
   ]
  },
  {
   "cell_type": "markdown",
   "metadata": {},
   "source": [
    "## Учеба, ошибки, падение мотивации"
   ]
  },
  {
   "cell_type": "code",
   "execution_count": null,
   "metadata": {},
   "outputs": [],
   "source": [
    "numbers = [1,2,3,4,5]"
   ]
  },
  {
   "cell_type": "code",
   "execution_count": null,
   "metadata": {},
   "outputs": [],
   "source": [
    "print(numbers)"
   ]
  },
  {
   "cell_type": "code",
   "execution_count": null,
   "metadata": {},
   "outputs": [],
   "source": [
    "print(numbers[0])\n",
    "print(numbers[1])\n",
    "print(numbers[-1])"
   ]
  },
  {
   "cell_type": "code",
   "execution_count": null,
   "metadata": {
    "scrolled": false
   },
   "outputs": [],
   "source": [
    "print(numbers[5])"
   ]
  },
  {
   "cell_type": "markdown",
   "metadata": {},
   "source": [
    "### [StackOverflow](https://stackoverflow.com/) - главный инструмент программиста! :)\n",
    "\n",
    "Сообщество Питона огромно, почти все вопросы о проблемах были заданы"
   ]
  },
  {
   "cell_type": "markdown",
   "metadata": {},
   "source": [
    "### Что еще нужно знать?"
   ]
  },
  {
   "cell_type": "markdown",
   "metadata": {},
   "source": [
    "* SQL \n",
    "* Математика - основы теории вероятности, статистики, мат.анализа и линейной алгебры\n",
    "* linux, bash, git, docker"
   ]
  },
  {
   "cell_type": "code",
   "execution_count": null,
   "metadata": {},
   "outputs": [],
   "source": []
  },
  {
   "cell_type": "code",
   "execution_count": null,
   "metadata": {},
   "outputs": [],
   "source": []
  },
  {
   "cell_type": "code",
   "execution_count": null,
   "metadata": {},
   "outputs": [],
   "source": []
  },
  {
   "cell_type": "code",
   "execution_count": null,
   "metadata": {},
   "outputs": [],
   "source": []
  },
  {
   "cell_type": "code",
   "execution_count": null,
   "metadata": {},
   "outputs": [],
   "source": []
  },
  {
   "cell_type": "code",
   "execution_count": null,
   "metadata": {},
   "outputs": [],
   "source": []
  },
  {
   "cell_type": "code",
   "execution_count": null,
   "metadata": {},
   "outputs": [],
   "source": []
  },
  {
   "cell_type": "code",
   "execution_count": null,
   "metadata": {},
   "outputs": [],
   "source": []
  },
  {
   "cell_type": "markdown",
   "metadata": {},
   "source": [
    "### Типы данных и переменные"
   ]
  },
  {
   "cell_type": "markdown",
   "metadata": {},
   "source": [
    "#### Целые числа:"
   ]
  },
  {
   "cell_type": "code",
   "execution_count": null,
   "metadata": {},
   "outputs": [],
   "source": [
    "print(2 + 3)\n",
    "print(2 - 3)\n",
    "print(2 * 3)\n",
    "print(2 / 3)\n",
    "print(2 ** 3)"
   ]
  },
  {
   "cell_type": "code",
   "execution_count": null,
   "metadata": {},
   "outputs": [],
   "source": [
    "a = 10\n",
    "b = 20"
   ]
  },
  {
   "cell_type": "code",
   "execution_count": null,
   "metadata": {},
   "outputs": [],
   "source": [
    "c = a + b"
   ]
  },
  {
   "cell_type": "code",
   "execution_count": null,
   "metadata": {},
   "outputs": [],
   "source": [
    "print(a - b)\n",
    "print(c)\n",
    "print(c * a)"
   ]
  },
  {
   "cell_type": "code",
   "execution_count": null,
   "metadata": {},
   "outputs": [],
   "source": [
    "print(a)"
   ]
  },
  {
   "cell_type": "code",
   "execution_count": null,
   "metadata": {},
   "outputs": [],
   "source": [
    "a = b + a\n",
    "print(a)\n",
    "print(b)"
   ]
  },
  {
   "cell_type": "code",
   "execution_count": null,
   "metadata": {},
   "outputs": [],
   "source": [
    "float_number = 2 / 3"
   ]
  },
  {
   "cell_type": "code",
   "execution_count": null,
   "metadata": {},
   "outputs": [],
   "source": [
    "print(float_number)"
   ]
  },
  {
   "cell_type": "code",
   "execution_count": null,
   "metadata": {},
   "outputs": [],
   "source": [
    "print(type(a))\n",
    "print(type(float_number))"
   ]
  },
  {
   "cell_type": "code",
   "execution_count": null,
   "metadata": {},
   "outputs": [],
   "source": [
    "print(round(float_number, 2))"
   ]
  },
  {
   "cell_type": "markdown",
   "metadata": {},
   "source": [
    "#### Строки"
   ]
  },
  {
   "cell_type": "code",
   "execution_count": null,
   "metadata": {},
   "outputs": [],
   "source": [
    "'andrey'"
   ]
  },
  {
   "cell_type": "code",
   "execution_count": null,
   "metadata": {},
   "outputs": [],
   "source": [
    "first_name = 'andrey'\n",
    "last_name = 'tyukavin'"
   ]
  },
  {
   "cell_type": "code",
   "execution_count": null,
   "metadata": {},
   "outputs": [],
   "source": [
    "print(first_name + last_name)\n",
    "print(first_name + ' ' + last_name)"
   ]
  },
  {
   "cell_type": "code",
   "execution_count": null,
   "metadata": {},
   "outputs": [],
   "source": [
    "full_name = first_name + ' ' + last_name\n",
    "print(full_name.title())\n",
    "print(full_name.upper())\n",
    "print(full_name.replace('andrey', 'petr'))"
   ]
  },
  {
   "cell_type": "markdown",
   "metadata": {},
   "source": [
    "#### Спиcки"
   ]
  },
  {
   "cell_type": "code",
   "execution_count": null,
   "metadata": {},
   "outputs": [],
   "source": [
    "True "
   ]
  },
  {
   "cell_type": "code",
   "execution_count": null,
   "metadata": {},
   "outputs": [],
   "source": []
  },
  {
   "cell_type": "code",
   "execution_count": null,
   "metadata": {},
   "outputs": [],
   "source": []
  },
  {
   "cell_type": "code",
   "execution_count": null,
   "metadata": {},
   "outputs": [],
   "source": [
    "100 in [1,2,3,4]"
   ]
  },
  {
   "cell_type": "code",
   "execution_count": null,
   "metadata": {},
   "outputs": [],
   "source": [
    "def clean_int_list(a_list):\n",
    "    \n",
    "    return a_list"
   ]
  },
  {
   "cell_type": "code",
   "execution_count": null,
   "metadata": {},
   "outputs": [],
   "source": [
    "sum([1,2,3])"
   ]
  },
  {
   "cell_type": "code",
   "execution_count": null,
   "metadata": {},
   "outputs": [],
   "source": [
    "type(1)"
   ]
  },
  {
   "cell_type": "code",
   "execution_count": null,
   "metadata": {},
   "outputs": [],
   "source": [
    "type(2.0)"
   ]
  },
  {
   "cell_type": "code",
   "execution_count": null,
   "metadata": {},
   "outputs": [],
   "source": [
    "print(('andrey' + ' ' + 'tyukavin').title())\n",
    "print(('andrey' + ' ' + 'tyukavin').upper())\n",
    "print('andrey'[-1])"
   ]
  },
  {
   "cell_type": "code",
   "execution_count": null,
   "metadata": {},
   "outputs": [],
   "source": [
    "a = 1\n",
    "b = 2\n",
    "c = a + b\n",
    "print(c)"
   ]
  },
  {
   "cell_type": "code",
   "execution_count": null,
   "metadata": {},
   "outputs": [],
   "source": [
    "'andrey'[10]"
   ]
  },
  {
   "cell_type": "code",
   "execution_count": null,
   "metadata": {},
   "outputs": [],
   "source": []
  },
  {
   "cell_type": "code",
   "execution_count": null,
   "metadata": {},
   "outputs": [],
   "source": []
  },
  {
   "cell_type": "code",
   "execution_count": null,
   "metadata": {},
   "outputs": [],
   "source": []
  },
  {
   "cell_type": "code",
   "execution_count": null,
   "metadata": {},
   "outputs": [],
   "source": [
    "a = [0,1,2]\n",
    "a[3]"
   ]
  },
  {
   "cell_type": "code",
   "execution_count": null,
   "metadata": {},
   "outputs": [],
   "source": [
    "2"
   ]
  },
  {
   "cell_type": "code",
   "execution_count": null,
   "metadata": {},
   "outputs": [],
   "source": [
    "import pandas as pd\n",
    "%matplotlib inline"
   ]
  },
  {
   "cell_type": "code",
   "execution_count": null,
   "metadata": {},
   "outputs": [],
   "source": [
    "df = pd.read_csv('data/Video_Games_Sales_as_at_22_Dec_2016.csv')"
   ]
  },
  {
   "cell_type": "code",
   "execution_count": null,
   "metadata": {},
   "outputs": [],
   "source": [
    "df.head()"
   ]
  },
  {
   "cell_type": "code",
   "execution_count": null,
   "metadata": {},
   "outputs": [],
   "source": [
    "df[['Name', 'Genre']].head(2)"
   ]
  },
  {
   "cell_type": "code",
   "execution_count": null,
   "metadata": {},
   "outputs": [],
   "source": [
    "useful_cols = ['Name', 'Platform', 'Year_of_Release', 'Genre', \n",
    "               'Global_Sales', 'Critic_Score', 'Critic_Count',\n",
    "               'User_Score', 'User_Count', 'Rating'\n",
    "              ]\n",
    "df[useful_cols].head()"
   ]
  },
  {
   "cell_type": "code",
   "execution_count": null,
   "metadata": {},
   "outputs": [],
   "source": [
    "sales_df = df[[x for x in df.columns if 'Sales' in x] + ['Year_of_Release']]\n",
    "sales_df.groupby('Year_of_Release').sum().plot(figsize=(20,10))"
   ]
  },
  {
   "cell_type": "code",
   "execution_count": null,
   "metadata": {},
   "outputs": [],
   "source": [
    "sales_df.groupby('Year_of_Release').sum().plot(figsize=(20,10), kind='bar', rot=45)"
   ]
  },
  {
   "cell_type": "code",
   "execution_count": null,
   "metadata": {},
   "outputs": [],
   "source": [
    "sales_df = df[[x for x in df.columns if 'Score' in x] + ['Platform']]\n",
    "sales_df.groupby('Platform').mean().dropna().sort_values(by='Critic_Score', ascending=False)"
   ]
  },
  {
   "cell_type": "code",
   "execution_count": null,
   "metadata": {},
   "outputs": [],
   "source": []
  },
  {
   "cell_type": "code",
   "execution_count": null,
   "metadata": {},
   "outputs": [],
   "source": []
  }
 ],
 "metadata": {
  "kernelspec": {
   "display_name": "Python 3",
   "language": "python",
   "name": "python3"
  },
  "language_info": {
   "codemirror_mode": {
    "name": "ipython",
    "version": 3
   },
   "file_extension": ".py",
   "mimetype": "text/x-python",
   "name": "python",
   "nbconvert_exporter": "python",
   "pygments_lexer": "ipython3",
   "version": "3.6.5"
  }
 },
 "nbformat": 4,
 "nbformat_minor": 2
}
